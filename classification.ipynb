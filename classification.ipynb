{
 "cells": [
  {
   "cell_type": "markdown",
   "metadata": {},
   "source": [
    "# Importing Data"
   ]
  },
  {
   "cell_type": "code",
   "execution_count": 1,
   "metadata": {},
   "outputs": [
    {
     "name": "stderr",
     "output_type": "stream",
     "text": [
      "/Library/Frameworks/Python.framework/Versions/3.8/lib/python3.8/site-packages/sklearn/utils/deprecation.py:144: FutureWarning: The sklearn.metrics.classification module is  deprecated in version 0.22 and will be removed in version 0.24. The corresponding classes / functions should instead be imported from sklearn.metrics. Anything that cannot be imported from sklearn.metrics is now part of the private API.\n",
      "  warnings.warn(message, FutureWarning)\n"
     ]
    }
   ],
   "source": [
    "import numpy as np\n",
    "import os\n",
    "import pandas as pd\n",
    "\n",
    "import matplotlib.pyplot as plt\n",
    "import seaborn as sns\n",
    "\n",
    "from sklearn.preprocessing import MinMaxScaler, OneHotEncoder, LabelEncoder, PolynomialFeatures, StandardScaler\n",
    "from sklearn.model_selection import train_test_split\n",
    "from sklearn.ensemble import AdaBoostClassifier, AdaBoostRegressor, GradientBoostingClassifier, RandomForestClassifier\n",
    "\n",
    "# from xgboost import XGBClassifier\n",
    "from sklearn.utils import resample\n",
    "\n",
    "from sklearn.linear_model import LogisticRegression\n",
    "from sklearn.linear_model import Ridge\n",
    "from sklearn.linear_model import Lasso\n",
    "\n",
    "from yellowbrick.datasets import load_concrete\n",
    "import warnings\n",
    "warnings.filterwarnings('ignore')\n",
    "\n",
    "%matplotlib inline\n",
    "\n",
    "# Python Scripts\n",
    "from functions import *"
   ]
  },
  {
   "cell_type": "markdown",
   "metadata": {},
   "source": [
    "## Encoding\n",
    "Performing One-hot-encoding to keep interpretability"
   ]
  },
  {
   "cell_type": "code",
   "execution_count": 2,
   "metadata": {},
   "outputs": [],
   "source": [
    "# Instatiating Encoder\n",
    "ohe = OneHotEncoder(drop=\"first\")"
   ]
  },
  {
   "cell_type": "code",
   "execution_count": 3,
   "metadata": {},
   "outputs": [],
   "source": [
    "# Splitting Categorical Variables and Numeric Variables\n",
    "cat_var = bank_df.select_dtypes(include=\"object\")\n",
    "num_var = bank_df.select_dtypes(exclude=\"object\")\n",
    "\n",
    "# Reseting Index\n",
    "cat_var.reset_index(drop=True, inplace=True)\n",
    "num_var.reset_index(drop=True, inplace=True)"
   ]
  },
  {
   "cell_type": "code",
   "execution_count": 4,
   "metadata": {},
   "outputs": [],
   "source": [
    "# One hot encoding categorical variables\n",
    "array_to_df = ohe.fit_transform(bank_df[cat_var.columns.tolist()]).toarray()  # Array values of the transformed columns\n",
    "\n",
    "encoded = pd.DataFrame(array_to_df, columns=ohe.get_feature_names(cat_var.columns))  # Creating a pandas dataframe\n",
    "\n",
    "bank_df = num_var.join(encoded, how=\"left\")  # Combining the categorical variables and the numeric variables"
   ]
  },
  {
   "cell_type": "code",
   "execution_count": 5,
   "metadata": {},
   "outputs": [
    {
     "data": {
      "text/html": [
       "<div>\n",
       "<style scoped>\n",
       "    .dataframe tbody tr th:only-of-type {\n",
       "        vertical-align: middle;\n",
       "    }\n",
       "\n",
       "    .dataframe tbody tr th {\n",
       "        vertical-align: top;\n",
       "    }\n",
       "\n",
       "    .dataframe thead th {\n",
       "        text-align: right;\n",
       "    }\n",
       "</style>\n",
       "<table border=\"1\" class=\"dataframe\">\n",
       "  <thead>\n",
       "    <tr style=\"text-align: right;\">\n",
       "      <th></th>\n",
       "      <th>Current_Loan_Amount</th>\n",
       "      <th>Credit_Score</th>\n",
       "      <th>Annual_Income</th>\n",
       "      <th>Monthly_Debt</th>\n",
       "      <th>Years_of_Credit_History</th>\n",
       "      <th>Months_since_last_delinquent</th>\n",
       "      <th>Number_of_Open_Accounts</th>\n",
       "      <th>Number_of_Credit_Problems</th>\n",
       "      <th>Current_Credit_Balance</th>\n",
       "      <th>Maximum_Open_Credit</th>\n",
       "      <th>...</th>\n",
       "      <th>Purpose_Medical Bills</th>\n",
       "      <th>Purpose_Other</th>\n",
       "      <th>Purpose_Take a Trip</th>\n",
       "      <th>Purpose_major_purchase</th>\n",
       "      <th>Purpose_moving</th>\n",
       "      <th>Purpose_other</th>\n",
       "      <th>Purpose_renewable_energy</th>\n",
       "      <th>Purpose_small_business</th>\n",
       "      <th>Purpose_vacation</th>\n",
       "      <th>Purpose_wedding</th>\n",
       "    </tr>\n",
       "  </thead>\n",
       "  <tbody>\n",
       "    <tr>\n",
       "      <th>0</th>\n",
       "      <td>99999999.0</td>\n",
       "      <td>741.0</td>\n",
       "      <td>2231892.0</td>\n",
       "      <td>29200.53</td>\n",
       "      <td>14.9</td>\n",
       "      <td>29.0</td>\n",
       "      <td>18.0</td>\n",
       "      <td>1.0</td>\n",
       "      <td>297996.0</td>\n",
       "      <td>750090.0</td>\n",
       "      <td>...</td>\n",
       "      <td>0.0</td>\n",
       "      <td>0.0</td>\n",
       "      <td>0.0</td>\n",
       "      <td>0.0</td>\n",
       "      <td>0.0</td>\n",
       "      <td>0.0</td>\n",
       "      <td>0.0</td>\n",
       "      <td>0.0</td>\n",
       "      <td>0.0</td>\n",
       "      <td>0.0</td>\n",
       "    </tr>\n",
       "    <tr>\n",
       "      <th>1</th>\n",
       "      <td>217646.0</td>\n",
       "      <td>730.0</td>\n",
       "      <td>1184194.0</td>\n",
       "      <td>10855.08</td>\n",
       "      <td>19.6</td>\n",
       "      <td>10.0</td>\n",
       "      <td>13.0</td>\n",
       "      <td>1.0</td>\n",
       "      <td>122170.0</td>\n",
       "      <td>272052.0</td>\n",
       "      <td>...</td>\n",
       "      <td>0.0</td>\n",
       "      <td>0.0</td>\n",
       "      <td>0.0</td>\n",
       "      <td>0.0</td>\n",
       "      <td>0.0</td>\n",
       "      <td>0.0</td>\n",
       "      <td>0.0</td>\n",
       "      <td>0.0</td>\n",
       "      <td>0.0</td>\n",
       "      <td>0.0</td>\n",
       "    </tr>\n",
       "    <tr>\n",
       "      <th>2</th>\n",
       "      <td>548746.0</td>\n",
       "      <td>678.0</td>\n",
       "      <td>2559110.0</td>\n",
       "      <td>18660.28</td>\n",
       "      <td>22.6</td>\n",
       "      <td>33.0</td>\n",
       "      <td>4.0</td>\n",
       "      <td>0.0</td>\n",
       "      <td>437171.0</td>\n",
       "      <td>555038.0</td>\n",
       "      <td>...</td>\n",
       "      <td>0.0</td>\n",
       "      <td>0.0</td>\n",
       "      <td>0.0</td>\n",
       "      <td>0.0</td>\n",
       "      <td>0.0</td>\n",
       "      <td>0.0</td>\n",
       "      <td>0.0</td>\n",
       "      <td>0.0</td>\n",
       "      <td>0.0</td>\n",
       "      <td>0.0</td>\n",
       "    </tr>\n",
       "    <tr>\n",
       "      <th>3</th>\n",
       "      <td>99999999.0</td>\n",
       "      <td>728.0</td>\n",
       "      <td>714628.0</td>\n",
       "      <td>11851.06</td>\n",
       "      <td>16.0</td>\n",
       "      <td>76.0</td>\n",
       "      <td>16.0</td>\n",
       "      <td>0.0</td>\n",
       "      <td>203965.0</td>\n",
       "      <td>289784.0</td>\n",
       "      <td>...</td>\n",
       "      <td>0.0</td>\n",
       "      <td>0.0</td>\n",
       "      <td>0.0</td>\n",
       "      <td>0.0</td>\n",
       "      <td>0.0</td>\n",
       "      <td>0.0</td>\n",
       "      <td>0.0</td>\n",
       "      <td>0.0</td>\n",
       "      <td>0.0</td>\n",
       "      <td>0.0</td>\n",
       "    </tr>\n",
       "    <tr>\n",
       "      <th>4</th>\n",
       "      <td>99999999.0</td>\n",
       "      <td>740.0</td>\n",
       "      <td>776188.0</td>\n",
       "      <td>11578.22</td>\n",
       "      <td>8.5</td>\n",
       "      <td>25.0</td>\n",
       "      <td>6.0</td>\n",
       "      <td>0.0</td>\n",
       "      <td>134083.0</td>\n",
       "      <td>220220.0</td>\n",
       "      <td>...</td>\n",
       "      <td>0.0</td>\n",
       "      <td>0.0</td>\n",
       "      <td>0.0</td>\n",
       "      <td>0.0</td>\n",
       "      <td>0.0</td>\n",
       "      <td>0.0</td>\n",
       "      <td>0.0</td>\n",
       "      <td>0.0</td>\n",
       "      <td>0.0</td>\n",
       "      <td>0.0</td>\n",
       "    </tr>\n",
       "  </tbody>\n",
       "</table>\n",
       "<p>5 rows × 59020 columns</p>\n",
       "</div>"
      ],
      "text/plain": [
       "   Current_Loan_Amount  Credit_Score  Annual_Income  Monthly_Debt  \\\n",
       "0           99999999.0         741.0      2231892.0      29200.53   \n",
       "1             217646.0         730.0      1184194.0      10855.08   \n",
       "2             548746.0         678.0      2559110.0      18660.28   \n",
       "3           99999999.0         728.0       714628.0      11851.06   \n",
       "4           99999999.0         740.0       776188.0      11578.22   \n",
       "\n",
       "   Years_of_Credit_History  Months_since_last_delinquent  \\\n",
       "0                     14.9                          29.0   \n",
       "1                     19.6                          10.0   \n",
       "2                     22.6                          33.0   \n",
       "3                     16.0                          76.0   \n",
       "4                      8.5                          25.0   \n",
       "\n",
       "   Number_of_Open_Accounts  Number_of_Credit_Problems  Current_Credit_Balance  \\\n",
       "0                     18.0                        1.0                297996.0   \n",
       "1                     13.0                        1.0                122170.0   \n",
       "2                      4.0                        0.0                437171.0   \n",
       "3                     16.0                        0.0                203965.0   \n",
       "4                      6.0                        0.0                134083.0   \n",
       "\n",
       "   Maximum_Open_Credit  ...  Purpose_Medical Bills  Purpose_Other  \\\n",
       "0             750090.0  ...                    0.0            0.0   \n",
       "1             272052.0  ...                    0.0            0.0   \n",
       "2             555038.0  ...                    0.0            0.0   \n",
       "3             289784.0  ...                    0.0            0.0   \n",
       "4             220220.0  ...                    0.0            0.0   \n",
       "\n",
       "   Purpose_Take a Trip  Purpose_major_purchase  Purpose_moving  Purpose_other  \\\n",
       "0                  0.0                     0.0             0.0            0.0   \n",
       "1                  0.0                     0.0             0.0            0.0   \n",
       "2                  0.0                     0.0             0.0            0.0   \n",
       "3                  0.0                     0.0             0.0            0.0   \n",
       "4                  0.0                     0.0             0.0            0.0   \n",
       "\n",
       "   Purpose_renewable_energy  Purpose_small_business  Purpose_vacation  \\\n",
       "0                       0.0                     0.0               0.0   \n",
       "1                       0.0                     0.0               0.0   \n",
       "2                       0.0                     0.0               0.0   \n",
       "3                       0.0                     0.0               0.0   \n",
       "4                       0.0                     0.0               0.0   \n",
       "\n",
       "   Purpose_wedding  \n",
       "0              0.0  \n",
       "1              0.0  \n",
       "2              0.0  \n",
       "3              0.0  \n",
       "4              0.0  \n",
       "\n",
       "[5 rows x 59020 columns]"
      ]
     },
     "execution_count": 5,
     "metadata": {},
     "output_type": "execute_result"
    }
   ],
   "source": [
    "bank_df.head()"
   ]
  },
  {
   "cell_type": "code",
   "execution_count": 6,
   "metadata": {},
   "outputs": [
    {
     "data": {
      "text/plain": [
       "Index(['Current_Loan_Amount', 'Credit_Score', 'Annual_Income', 'Monthly_Debt',\n",
       "       'Years_of_Credit_History', 'Months_since_last_delinquent',\n",
       "       'Number_of_Open_Accounts', 'Number_of_Credit_Problems',\n",
       "       'Current_Credit_Balance', 'Maximum_Open_Credit',\n",
       "       ...\n",
       "       'Purpose_Medical Bills', 'Purpose_Other', 'Purpose_Take a Trip',\n",
       "       'Purpose_major_purchase', 'Purpose_moving', 'Purpose_other',\n",
       "       'Purpose_renewable_energy', 'Purpose_small_business',\n",
       "       'Purpose_vacation', 'Purpose_wedding'],\n",
       "      dtype='object', length=59020)"
      ]
     },
     "execution_count": 6,
     "metadata": {},
     "output_type": "execute_result"
    }
   ],
   "source": [
    "bank_df.columns"
   ]
  },
  {
   "cell_type": "markdown",
   "metadata": {},
   "source": [
    "## Balancing Minority Data"
   ]
  },
  {
   "cell_type": "code",
   "execution_count": null,
   "metadata": {},
   "outputs": [],
   "source": [
    "# Fixing class imbalance\n",
    "majority_df = bank_df[bank_df['Loan_Status_Fully Paid'] == 1]\n",
    "\n",
    "minority_df = bank_df[bank_df['Loan_Status_Fully Paid'] == 0]\n",
    "minority_df = resample(minority_df, replace=True, n_samples=13200, random_state=123)\n",
    "\n",
    "bank_df = pd.concat([majority_df, minority_df])"
   ]
  },
  {
   "cell_type": "code",
   "execution_count": null,
   "metadata": {},
   "outputs": [],
   "source": [
    "# Preparing the X, y train test data\n",
    "X = bank_df.drop(columns=['Loan_Status_Fully Paid'], axis=1)  # Independent Varaibles\n",
    "y = bank_df['Loan_Status_Fully Paid']  # Dependent Variables\n",
    "\n",
    "X_train, X_test, y_train, y_test = train_test_split(X, y, test_size= 0.2, random_state=123)"
   ]
  },
  {
   "cell_type": "markdown",
   "metadata": {},
   "source": [
    "## Scaling Data"
   ]
  },
  {
   "cell_type": "code",
   "execution_count": null,
   "metadata": {},
   "outputs": [],
   "source": [
    "bank_df.head()"
   ]
  },
  {
   "cell_type": "markdown",
   "metadata": {},
   "source": [
    "# Modeling"
   ]
  },
  {
   "cell_type": "markdown",
   "metadata": {},
   "source": [
    "### <span style=\"color:blue\">------------------------------------------Base Line Model Logistic Regresssion------------------------------------------ </span>\n",
    "\n",
    "Model can only do slightly better than random guesses."
   ]
  },
  {
   "cell_type": "code",
   "execution_count": null,
   "metadata": {},
   "outputs": [],
   "source": [
    "# Logistic Regression Model\n",
    "logr_clf = LogisticRegression()\n",
    "logr_clf.fit(X_train, y_train)\n",
    "y_pred = logr_clf.predict(X_train)\n",
    "\n",
    "print('Train Accuracy', logr_clf.score(X_train, y_train))\n",
    "print('Test Accuracy', logr_clf.score(X_test, y_test))\n",
    "\n",
    "# Graphing\n",
    "fig, ax = plt.subplots(figsize=(6, 15))\n",
    "ax.barh(y=X_train.columns, width=logr_clf.coef_[0]);"
   ]
  },
  {
   "cell_type": "code",
   "execution_count": null,
   "metadata": {},
   "outputs": [],
   "source": [
    "log_coef = logr_clf.coef_.reshape(-1)\n",
    "\n",
    "# Figure size\n",
    "plt.figure(figsize=(15, 10))\n",
    "\n",
    "# Seaborn Barplot\n",
    "sns.barplot(x=log_coef, y=X_train.columns)\n",
    "plt.show()"
   ]
  },
  {
   "cell_type": "markdown",
   "metadata": {},
   "source": [
    "### <span style=\"color:blue\">------------------------------------------ Random Forest------------------------------------------</span>"
   ]
  },
  {
   "cell_type": "code",
   "execution_count": null,
   "metadata": {},
   "outputs": [],
   "source": [
    "# Random Forest Model\n",
    "rf_clf = RandomForestClassifier(n_estimators= 300, \n",
    "                                criterion= 'gini', \n",
    "                                max_depth= 10, \n",
    "                                max_features= 'auto',\n",
    "                                oob_score= True)\n",
    "rf_clf.fit(X_train, y_train.ravel())\n",
    "\n",
    "# Finding the accuracy of train and test\n",
    "accuracy_train = rf_clf.score(X_train, y_train)\n",
    "accuracy_test = rf_clf.score(X_test, y_test)\n",
    "oob = rf_clf.oob_score_\n",
    "\n",
    "print('Train Accuracy', accuracy_train)\n",
    "print('Test Accuracy', accuracy_test)\n",
    "print('OOB Score', oob)\n",
    "\n",
    "# Graphing\n",
    "fig, ax = plt.subplots(figsize=(6, 10))\n",
    "ax.barh(width=rf_clf.feature_importances_, y=X_train.columns);"
   ]
  },
  {
   "cell_type": "code",
   "execution_count": null,
   "metadata": {},
   "outputs": [],
   "source": [
    "# Figure size\n",
    "plt.figure(figsize=(15, 10))\n",
    "\n",
    "# Seaborn Barplot\n",
    "sns.barplot(x=rf_clf.feature_importances_, y=X_train.columns)\n",
    "plt.show()"
   ]
  },
  {
   "cell_type": "markdown",
   "metadata": {},
   "source": [
    "### <span style=\"color:blue\">------------------------------------------ GradientBoostingClassifier------------------------------------------</span>"
   ]
  },
  {
   "cell_type": "code",
   "execution_count": null,
   "metadata": {},
   "outputs": [],
   "source": [
    "# Gradient Boost Model\n",
    "gbc = GradientBoostingClassifier(random_state=42)\n",
    "gbc.fit(X_train, y_train)\n",
    "\n",
    "# Accuracy of train and test\n",
    "accuracy_train = gbc.score(X_train, y_train.ravel())\n",
    "accuracy_test = gbc.score(X_test, y_test.ravel())\n",
    "\n",
    "print('Train Accuracy', accuracy_train)\n",
    "print('Test Accuracy', accuracy_test)\n",
    "\n",
    "# Graphing\n",
    "fig, ax = plt.subplots(figsize=(6, 10))\n",
    "ax.barh(width=gbc.feature_importances_, y=X_train.columns);"
   ]
  },
  {
   "cell_type": "code",
   "execution_count": null,
   "metadata": {},
   "outputs": [],
   "source": [
    "# Figure size\n",
    "plt.figure(figsize=(15, 10))\n",
    "\n",
    "# Seaborn Barplot\n",
    "sns.barplot(x=gbc.feature_importances_, y=X_train.columns)\n",
    "plt.show()"
   ]
  },
  {
   "cell_type": "markdown",
   "metadata": {},
   "source": [
    "### <span style=\"color:blue\">------------------------------------------AdaBoostClassifier------------------------------------------</span>"
   ]
  },
  {
   "cell_type": "code",
   "execution_count": null,
   "metadata": {},
   "outputs": [],
   "source": [
    "# Adaptation Boost Model\n",
    "abc = AdaBoostClassifier(random_state=42)\n",
    "abc.fit(X_train, y_train.ravel())\n",
    "\n",
    "# Accuracy of train and test\n",
    "accuracy_train = abc.score(X_train, y_train)\n",
    "accuracy_test = abc.score(X_test, y_test)\n",
    "\n",
    "print('Train Accuracy', accuracy_train)\n",
    "print('Test Accuracy', accuracy_test)\n",
    "\n",
    "# Graphing\n",
    "fig, ax = plt.subplots(figsize=(6, 10))\n",
    "ax.barh(width=abc.feature_importances_, y=X_train.columns);"
   ]
  },
  {
   "cell_type": "code",
   "execution_count": null,
   "metadata": {},
   "outputs": [],
   "source": [
    "# Figure size\n",
    "plt.figure(figsize=(15, 10))\n",
    "\n",
    "# Seaborn Barplot\n",
    "sns.barplot(x=abc.feature_importances_, y=X_train.columns)\n",
    "plt.show()"
   ]
  },
  {
   "cell_type": "markdown",
   "metadata": {},
   "source": [
    "### <span style=\"color:blue\">------------------------------------------XGBoostClassifier------------------------------------------</span>"
   ]
  },
  {
   "cell_type": "code",
   "execution_count": null,
   "metadata": {},
   "outputs": [],
   "source": [
    "# Extreme Boost Model\n",
    "xgbc = XGBClassifier()\n",
    "xgbc.fit(X_train, y_train)\n",
    "\n",
    "# Accuracy of train and test\n",
    "accuracy_train = xgbc.score(X_train, y_train.ravel())\n",
    "accuracy_test = xgbc.score(X_test, y_test.ravel())\n",
    "\n",
    "print('Train Accuracy', accuracy_train)\n",
    "print('Test Accuracy', accuracy_test)\n",
    "\n",
    "# Graphing\n",
    "fig, ax = plt.subplots(figsize=(6, 10))\n",
    "ax.barh(width=xgbc.coef_[0], y=X_train.columns);"
   ]
  }
 ],
 "metadata": {
  "kernelspec": {
   "display_name": "Python 3",
   "language": "python",
   "name": "python3"
  },
  "language_info": {
   "codemirror_mode": {
    "name": "ipython",
    "version": 3
   },
   "file_extension": ".py",
   "mimetype": "text/x-python",
   "name": "python",
   "nbconvert_exporter": "python",
   "pygments_lexer": "ipython3",
   "version": "3.8.1"
  }
 },
 "nbformat": 4,
 "nbformat_minor": 4
}
