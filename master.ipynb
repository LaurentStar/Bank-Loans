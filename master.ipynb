{
 "cells": [
  {
   "cell_type": "markdown",
   "metadata": {},
   "source": [
    "# import"
   ]
  },
  {
   "cell_type": "code",
   "execution_count": 2,
   "metadata": {},
   "outputs": [],
   "source": [
    "import numpy as np\n",
    "import matplotlib.pyplot as plt\n",
    "import os\n",
    "import pandas as pd\n",
    "import seaborn as sns\n",
    "from sklearn.compose import ColumnTransformer\n",
    "from sklearn.preprocessing import MinMaxScaler\n",
    "from sklearn.preprocessing import OneHotEncoder\n",
    "from sklearn.preprocessing import LabelEncoder\n",
    "from sklearn.linear_model import LinearRegression\n",
    "from sklearn.model_selection import train_test_split\n",
    "from sklearn.metrics import mean_squared_error\n",
    "from sklearn.metrics import mean_absolute_error\n",
    "from sklearn.metrics import r2_score\n",
    "from sklearn.linear_model import Ridge\n",
    "from sklearn.linear_model import Lasso\n",
    "from sklearn.ensemble import RandomForestRegressor\n",
    "\n",
    "from yellowbrick.datasets import load_concrete\n",
    "from yellowbrick.regressor import ResidualsPlot\n",
    "import warnings\n",
    "warnings.filterwarnings('ignore')\n",
    "\n",
    "%matplotlib inline"
   ]
  },
  {
   "cell_type": "markdown",
   "metadata": {},
   "source": [
    "# Load Data"
   ]
  },
  {
   "cell_type": "code",
   "execution_count": 3,
   "metadata": {},
   "outputs": [],
   "source": [
    "_  = os.path.join('data', 'credit_train.csv')\n",
    "bank_df = pd.read_csv(_)"
   ]
  },
  {
   "cell_type": "code",
   "execution_count": 7,
   "metadata": {},
   "outputs": [
    {
     "data": {
      "text/plain": [
       "(100514, 19)"
      ]
     },
     "execution_count": 7,
     "metadata": {},
     "output_type": "execute_result"
    }
   ],
   "source": [
    "bank_df.shape"
   ]
  },
  {
   "cell_type": "markdown",
   "metadata": {},
   "source": [
    "# Methods/Constants/Globals"
   ]
  },
  {
   "cell_type": "code",
   "execution_count": 57,
   "metadata": {},
   "outputs": [
    {
     "data": {
      "text/plain": [
       "<Figure size 432x288 with 0 Axes>"
      ]
     },
     "metadata": {},
     "output_type": "display_data"
    }
   ],
   "source": [
    "%run -i \"scripts//methods_globals_constants.py\""
   ]
  },
  {
   "cell_type": "markdown",
   "metadata": {},
   "source": [
    "# Clean Data"
   ]
  },
  {
   "cell_type": "code",
   "execution_count": 59,
   "metadata": {},
   "outputs": [],
   "source": [
    "clean_df = bank_df.copy()"
   ]
  },
  {
   "cell_type": "code",
   "execution_count": 60,
   "metadata": {},
   "outputs": [],
   "source": [
    "# Remove all rows where all the columns are nan/null. Removes ~ 500 observations\n",
    "clean_df.dropna(axis=0, how='all', inplace=True)"
   ]
  },
  {
   "cell_type": "code",
   "execution_count": 61,
   "metadata": {},
   "outputs": [],
   "source": [
    "# Remove all observation with credit scores higher than 900. These an enigma borrower and only account for ~4% of the data\n",
    "_ = clean_df[clean_df['Credit Score'] <= 900].index\n",
    "clean_df.drop(_, inplace=True) "
   ]
  },
  {
   "cell_type": "code",
   "execution_count": 62,
   "metadata": {},
   "outputs": [],
   "source": [
    "# There were too many missing values in these columns. We removed both to perserve as much data as possible.\n",
    "clean_df.drop(['Credit Score', 'Annual Income'], axis=1, inplace=True) "
   ]
  },
  {
   "cell_type": "code",
   "execution_count": 63,
   "metadata": {},
   "outputs": [],
   "source": [
    "# Dropiing to nan value of year in current job. There are ~ 1056 which is ~ 4.45% of the remaining\n",
    "_ = clean_df[clean_df['Years in current job'].isna()].index\n",
    "clean_df.drop(_, inplace=True) "
   ]
  },
  {
   "cell_type": "markdown",
   "metadata": {},
   "source": [
    "fill in the avg for all month since last delinquent rows but do it for the distribution related to the purpose"
   ]
  },
  {
   "cell_type": "code",
   "execution_count": 64,
   "metadata": {},
   "outputs": [],
   "source": [
    "# Fill in all nan values for \"months since last delinquent\" with the mean of the catagorical column Purpose\n",
    "_ = clean_df.groupby('Purpose').mean()['Months since last delinquent'] # A temporary dictionary like object. also called a pandas series\n",
    "\n",
    "clean_df = clean_df.apply(lambda x : fillna_average_by_target_column(row=x, \n",
    "                                                          avg_dict=_, \n",
    "                                                          target_col=7, \n",
    "                                                          effected_col=10),axis=1)"
   ]
  },
  {
   "cell_type": "code",
   "execution_count": 67,
   "metadata": {},
   "outputs": [],
   "source": [
    "# Drop the remaining nan values in Maximun open credit, bankruptcies, and tax liens\n",
    "clean_df.dropna( subset=['Maximum Open Credit', 'Bankruptcies', 'Tax Liens'], axis=0, inplace=True)"
   ]
  },
  {
   "cell_type": "code",
   "execution_count": 71,
   "metadata": {},
   "outputs": [],
   "source": [
    "#Drop all loans amount with 9999999999. This is too extreme \n",
    "_ = clean_df.loc[clean_df['Current Loan Amount'] == 99999999.0].index\n",
    "clean_df.drop(index=_, inplace=True)"
   ]
  },
  {
   "cell_type": "code",
   "execution_count": 72,
   "metadata": {},
   "outputs": [
    {
     "name": "stdout",
     "output_type": "stream",
     "text": [
      "<class 'pandas.core.frame.DataFrame'>\n",
      "Int64Index: 22595 entries, 1 to 99992\n",
      "Data columns (total 17 columns):\n",
      "Loan ID                         22595 non-null object\n",
      "Customer ID                     22595 non-null object\n",
      "Loan Status                     22595 non-null object\n",
      "Current Loan Amount             22595 non-null float64\n",
      "Term                            22595 non-null object\n",
      "Years in current job            22595 non-null object\n",
      "Home Ownership                  22595 non-null object\n",
      "Purpose                         22595 non-null object\n",
      "Monthly Debt                    22595 non-null float64\n",
      "Years of Credit History         22595 non-null float64\n",
      "Months since last delinquent    22595 non-null float64\n",
      "Number of Open Accounts         22595 non-null float64\n",
      "Number of Credit Problems       22595 non-null float64\n",
      "Current Credit Balance          22595 non-null float64\n",
      "Maximum Open Credit             22595 non-null float64\n",
      "Bankruptcies                    22595 non-null float64\n",
      "Tax Liens                       22595 non-null float64\n",
      "dtypes: float64(10), object(7)\n",
      "memory usage: 3.1+ MB\n"
     ]
    }
   ],
   "source": [
    "clean_df.info()"
   ]
  }
 ],
 "metadata": {
  "kernelspec": {
   "display_name": "Python 3",
   "language": "python",
   "name": "python3"
  },
  "language_info": {
   "codemirror_mode": {
    "name": "ipython",
    "version": 3
   },
   "file_extension": ".py",
   "mimetype": "text/x-python",
   "name": "python",
   "nbconvert_exporter": "python",
   "pygments_lexer": "ipython3",
   "version": "3.8.1"
  }
 },
 "nbformat": 4,
 "nbformat_minor": 4
}
